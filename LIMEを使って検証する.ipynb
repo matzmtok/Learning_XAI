{
  "nbformat": 4,
  "nbformat_minor": 0,
  "metadata": {
    "colab": {
      "name": "LIMEを使って検証する",
      "provenance": [],
      "mount_file_id": "1DYvgwnMagjFsNExG7PamW8RuVsur6Sc9",
      "authorship_tag": "ABX9TyMHv4Hew3qHHA85ANbPIECq",
      "include_colab_link": true
    },
    "kernelspec": {
      "name": "python3",
      "display_name": "Python 3"
    },
    "language_info": {
      "name": "python"
    }
  },
  "cells": [
    {
      "cell_type": "markdown",
      "metadata": {
        "id": "view-in-github",
        "colab_type": "text"
      },
      "source": [
        "<a href=\"https://colab.research.google.com/github/matzmtok/Learning_XAI/blob/main/LIME%E3%82%92%E4%BD%BF%E3%81%A3%E3%81%A6%E6%A4%9C%E8%A8%BC%E3%81%99%E3%82%8B.ipynb\" target=\"_parent\"><img src=\"https://colab.research.google.com/assets/colab-badge.svg\" alt=\"Open In Colab\"/></a>"
      ]
    },
    {
      "cell_type": "markdown",
      "source": [
        "# 検証の目的\n",
        "\n",
        "テーブルデータに対する判断タスクを考え、AIモデルが判別の根拠とした変数をLIMEで出力できるようになることを目指す。\n",
        "* LIMEの動かし方\n",
        "* LIMEの出力の味方\n",
        "* LIMEの利点と弱点をふまえた使い所\n",
        "\n",
        "# ライブラリの準備\n",
        "\n",
        "判別のモデルの構築にはlightgbmを使用する\n",
        "パッケージとして、pandas、numpy、matplotlib、seaborn、scikit-learnを使用する。\n",
        "\n",
        "## まず pip でインストール"
      ],
      "metadata": {
        "id": "J8f1GLQBJdsf"
      }
    },
    {
      "cell_type": "code",
      "source": [
        "!pip install lightgbm lime matplotlib seaborn scikit-learn pandas numpy"
      ],
      "metadata": {
        "colab": {
          "base_uri": "https://localhost:8080/"
        },
        "id": "wXzUgiGJKB9r",
        "outputId": "f117461f-cd87-4aa4-a0ed-c9482a72b22c"
      },
      "execution_count": null,
      "outputs": [
        {
          "output_type": "stream",
          "name": "stdout",
          "text": [
            "Requirement already satisfied: lightgbm in /usr/local/lib/python3.7/dist-packages (3.1.1)\n",
            "Requirement already satisfied: lime in /usr/local/lib/python3.7/dist-packages (0.2.0.1)\n",
            "Requirement already satisfied: matplotlib in /usr/local/lib/python3.7/dist-packages (3.3.2)\n",
            "Requirement already satisfied: seaborn in /usr/local/lib/python3.7/dist-packages (0.11.1)\n",
            "Requirement already satisfied: scikit-learn in /usr/local/lib/python3.7/dist-packages (0.22.1)\n",
            "Requirement already satisfied: pandas in /usr/local/lib/python3.7/dist-packages (1.3.5)\n",
            "Requirement already satisfied: numpy in /usr/local/lib/python3.7/dist-packages (1.19.5)\n",
            "Requirement already satisfied: wheel in /usr/local/lib/python3.7/dist-packages (from lightgbm) (0.37.1)\n",
            "Requirement already satisfied: scipy in /usr/local/lib/python3.7/dist-packages (from lightgbm) (1.4.1)\n",
            "Requirement already satisfied: joblib>=0.11 in /usr/local/lib/python3.7/dist-packages (from scikit-learn) (1.1.0)\n",
            "Requirement already satisfied: scikit-image>=0.12 in /usr/local/lib/python3.7/dist-packages (from lime) (0.18.3)\n",
            "Requirement already satisfied: tqdm in /usr/local/lib/python3.7/dist-packages (from lime) (4.63.0)\n",
            "Requirement already satisfied: PyWavelets>=1.1.1 in /usr/local/lib/python3.7/dist-packages (from scikit-image>=0.12->lime) (1.3.0)\n",
            "Requirement already satisfied: pillow!=7.1.0,!=7.1.1,>=4.3.0 in /usr/local/lib/python3.7/dist-packages (from scikit-image>=0.12->lime) (7.1.2)\n",
            "Requirement already satisfied: tifffile>=2019.7.26 in /usr/local/lib/python3.7/dist-packages (from scikit-image>=0.12->lime) (2021.11.2)\n",
            "Requirement already satisfied: networkx>=2.0 in /usr/local/lib/python3.7/dist-packages (from scikit-image>=0.12->lime) (2.6.3)\n",
            "Requirement already satisfied: imageio>=2.3.0 in /usr/local/lib/python3.7/dist-packages (from scikit-image>=0.12->lime) (2.4.1)\n",
            "Requirement already satisfied: pyparsing!=2.0.4,!=2.1.2,!=2.1.6,>=2.0.3 in /usr/local/lib/python3.7/dist-packages (from matplotlib) (3.0.7)\n",
            "Requirement already satisfied: certifi>=2020.06.20 in /usr/local/lib/python3.7/dist-packages (from matplotlib) (2021.10.8)\n",
            "Requirement already satisfied: cycler>=0.10 in /usr/local/lib/python3.7/dist-packages (from matplotlib) (0.11.0)\n",
            "Requirement already satisfied: python-dateutil>=2.1 in /usr/local/lib/python3.7/dist-packages (from matplotlib) (2.8.2)\n",
            "Requirement already satisfied: kiwisolver>=1.0.1 in /usr/local/lib/python3.7/dist-packages (from matplotlib) (1.4.0)\n",
            "Requirement already satisfied: typing-extensions in /usr/local/lib/python3.7/dist-packages (from kiwisolver>=1.0.1->matplotlib) (3.10.0.2)\n",
            "Requirement already satisfied: six>=1.5 in /usr/local/lib/python3.7/dist-packages (from python-dateutil>=2.1->matplotlib) (1.15.0)\n",
            "Requirement already satisfied: pytz>=2017.3 in /usr/local/lib/python3.7/dist-packages (from pandas) (2018.9)\n"
          ]
        }
      ]
    },
    {
      "cell_type": "markdown",
      "source": [
        "# 検証対象のデータ\n",
        "\n",
        "Kaggleのタイタニック号生存者予測問題のデータセットを使用する\n",
        "\n",
        "データの概要\n",
        "\n",
        "|カラム名|カラムの意味|取扱いに関する備考|\n",
        "|-----------|----------------------|---------------------|\n",
        "|PassengerId|乗客ID                | AIモデルに入力しない|\n",
        "|Suvived    |生存フラグ            |正解ラベル           |\n",
        "|Pclass     |チケットクラス        |順序性がある変数として扱う|\n",
        "|Name       |乗客の名前            |敬称を抽出・グルーピングして新たな変数Title|\n",
        "|Sex        |性別                  |female, maleを0/1の変数に変換|\n",
        "|Age        |年齢                  |一部欠損データがあるため中央値で補完|\n",
        "|SibSp      |同乗者数（兄弟配偶者）|Parchと合算した新変数Familyに統合|\n",
        "|Parch      |同乗者数（親・子）    |SibSpと合算した新変数Familyに統合|\n",
        "|Ticket     |チケット番号          |AIモデルに入力しない|\n",
        "|Fare       |運賃                  |一部欠損データあり|\n",
        "|Cabin      |客室番号              |欠損多数のためAIモデルに入力しない|\n",
        "|Embarked   |出港地                |欠損値あり、欠損データは使用しない。カテゴリ変数に変換|\n",
        "\n"
      ],
      "metadata": {
        "id": "bBZ9-dMGLTyi"
      }
    },
    {
      "cell_type": "code",
      "source": [
        "test = \"/content/drive/MyDrive/Colab Notebooks/data/titanic/test.csv\"\n",
        "train = \"/content/drive/MyDrive/Colab Notebooks/data/titanic/train.csv\""
      ],
      "metadata": {
        "id": "nr6TE4fKdJZb"
      },
      "execution_count": null,
      "outputs": []
    },
    {
      "cell_type": "code",
      "source": [
        "import pandas as pd\n",
        "\n",
        "df_test = pd.read_csv(test)\n",
        "df_train = pd.read_csv(train)\n",
        "\n"
      ],
      "metadata": {
        "id": "PmgVw-iwfAMq"
      },
      "execution_count": null,
      "outputs": []
    },
    {
      "cell_type": "markdown",
      "source": [
        "# モデルの学習\n",
        "\n",
        "まずモデルに学習させるためのデータの加工を行う\n",
        "学習させるモデルにはLightGBMを用いる\n",
        "\n",
        "## 前処理\n",
        "LightGBMにはカテゴリカル変数を使用することが可能。\n",
        "LIMEのライブラリの都合上、欠損値を入力できない\n"
      ],
      "metadata": {
        "id": "Ed18kp4vcZ5u"
      }
    },
    {
      "cell_type": "code",
      "source": [
        "from sklearn.preprocessing import OrdinalEncoder\n",
        "\n",
        "def replace_name(series):\n",
        "  \"\"\"\n",
        "   \n",
        "  \"\"\"\n",
        "  series = series.apply(lambda x: x.split(',')[1].split('.')[0].strip())\n",
        "  series = series.replace(['Capt', 'Col', 'Major', 'Dr', 'Rev'], 'Officer')\n",
        "  series = series.replace(['Don', 'Sir', 'the Countess', 'Lady', 'Dona'], 'Royalty')\n",
        "\n",
        "  return series\n",
        "\n"
      ],
      "metadata": {
        "id": "_1HGKQ8Hdgsc"
      },
      "execution_count": null,
      "outputs": []
    }
  ]
}